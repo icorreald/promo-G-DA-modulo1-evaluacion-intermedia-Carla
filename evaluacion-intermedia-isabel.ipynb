{
 "cells": [
  {
   "cell_type": "markdown",
   "metadata": {},
   "source": [
    "strings"
   ]
  },
  {
   "cell_type": "code",
   "execution_count": 1,
   "metadata": {},
   "outputs": [
    {
     "data": {
      "text/plain": [
       "2"
      ]
     },
     "execution_count": 1,
     "metadata": {},
     "output_type": "execute_result"
    }
   ],
   "source": [
    "# cuenta cuántas veces aparece una letra específica en ella\n",
    "\n",
    "cadena = \"Python es un lenguaje de programación muy popular\"\n",
    "cadena.count(input('¿Qué letra quieres buscar?'))"
   ]
  },
  {
   "cell_type": "code",
   "execution_count": 92,
   "metadata": {},
   "outputs": [
    {
     "name": "stdout",
     "output_type": "stream",
     "text": [
      "Python es super guay. Python es fácil de aprender.\n"
     ]
    }
   ],
   "source": [
    "# reemplazar una palabra por otra\n",
    "\n",
    "cadena = \"Python es genial. Python es fácil de aprender.\"\n",
    "cadena2 = cadena.replace(input('¿Qué palabra quieres cambiar?'), input('¿Por cuál?'))\n",
    "\n",
    "print(cadena2)"
   ]
  },
  {
   "cell_type": "code",
   "execution_count": 9,
   "metadata": {},
   "outputs": [
    {
     "name": "stdout",
     "output_type": "stream",
     "text": [
      "Esto es una oración de ejemplo\n"
     ]
    }
   ],
   "source": [
    "# divide la oración en una lista y únela nuevamente\n",
    "\n",
    "oracion = \"Esto es una oración de ejemplo\"\n",
    "l_oracion = list(oracion)\n",
    "j_oracion = ''.join(l_oracion)\n",
    "\n",
    "print(j_oracion)\n"
   ]
  },
  {
   "cell_type": "code",
   "execution_count": 94,
   "metadata": {},
   "outputs": [
    {
     "name": "stdout",
     "output_type": "stream",
     "text": [
      "7\n"
     ]
    }
   ],
   "source": [
    "# cuenta cuántas palabras hay en la siguiente frase\n",
    "\n",
    "cadena = \"Esta es una cadena con cinco palabras\"\n",
    "\n",
    "l_cad = cadena.split()\n",
    "print(len(l_cad))"
   ]
  },
  {
   "cell_type": "code",
   "execution_count": 98,
   "metadata": {},
   "outputs": [
    {
     "data": {
      "text/plain": [
       "3"
      ]
     },
     "execution_count": 98,
     "metadata": {},
     "output_type": "execute_result"
    }
   ],
   "source": [
    "# busca una palabra dada por la usuaria e indica su posición\n",
    "\n",
    "l_cad.index(input('¿Qué palabra quieres buscar?'))\n"
   ]
  },
  {
   "cell_type": "markdown",
   "metadata": {},
   "source": [
    "listas"
   ]
  },
  {
   "cell_type": "code",
   "execution_count": 15,
   "metadata": {},
   "outputs": [
    {
     "data": {
      "text/plain": [
       "'banana'"
      ]
     },
     "execution_count": 15,
     "metadata": {},
     "output_type": "execute_result"
    }
   ],
   "source": [
    "# reemplaza, agrega, extrae y muestra\n",
    "\n",
    "frutas = ['manzana', 'pera', 'banana', 'uva', 'kiwi']\n",
    "\n",
    "# reemplaza pera por durazno\n",
    "frutas[1] = 'durazno'\n",
    "\n",
    "# agrega naranja al final\n",
    "frutas.append('naranja')\n",
    "\n",
    "# extrae y muestra el tercer elemento\n",
    "frutas.pop(2)"
   ]
  },
  {
   "cell_type": "code",
   "execution_count": 28,
   "metadata": {},
   "outputs": [
    {
     "data": {
      "text/plain": [
       "[10, 15, 20, 25, 35, 45, 22, 19, 38]"
      ]
     },
     "execution_count": 28,
     "metadata": {},
     "output_type": "execute_result"
    }
   ],
   "source": [
    "# crea una lista:\n",
    "numeros = [10, 25, 15, 30, 20]\n",
    "\n",
    "# agrega 35 al inicio\n",
    "numeros.insert(0, 35)\n",
    "\n",
    "# ordena en orden ascendente\n",
    "numeros.sort()\n",
    "\n",
    "# nueva lista:\n",
    "numeros2 = [45, 22, 19, 38, 29]\n",
    "\n",
    "#concatenar listas\n",
    "n_copy = numeros.copy()\n",
    "n2_copy = numeros2.copy()\n",
    "\n",
    "n_copy.extend(n2_copy)\n",
    "numeros3 = n_copy\n",
    "numeros3\n",
    "\n",
    "# elimina último numero de numeros3\n",
    "numeros3.pop(-1)\n",
    "\n",
    "#elimina el 30 de la lista\n",
    "numeros3.remove(30)\n",
    "\n",
    "numeros3\n"
   ]
  },
  {
   "cell_type": "markdown",
   "metadata": {},
   "source": [
    "tuplas"
   ]
  },
  {
   "cell_type": "code",
   "execution_count": 34,
   "metadata": {},
   "outputs": [
    {
     "data": {
      "text/plain": [
       "tuple"
      ]
     },
     "execution_count": 34,
     "metadata": {},
     "output_type": "execute_result"
    }
   ],
   "source": [
    "# crea una tupla\n",
    "colores = ('rojo', 'verde', 'azul', 'amarillo', 'morado')\n",
    "\n",
    "# índice de verde\n",
    "colores.index('verde')\n",
    "\n",
    "# cuántas veces aparece azul\n",
    "colores.count('azul')\n",
    "\n",
    "# añade morado\n",
    "    # ---- tenemos que transformarlo en una lista primero; las tuplas no son mutables\n",
    "l_colores = list(colores)\n",
    "l_colores.append('morado')\n",
    "colores = tuple(l_colores)\n",
    "\n",
    "colores\n",
    "\n"
   ]
  },
  {
   "cell_type": "markdown",
   "metadata": {},
   "source": [
    "diccionarios"
   ]
  },
  {
   "cell_type": "code",
   "execution_count": 72,
   "metadata": {},
   "outputs": [],
   "source": [
    "# diccionario frutas\n",
    "d_frutas = {'manzana':2,\n",
    "            'banana':3,\n",
    "            'uva':5,\n",
    "            'pera':4}\n",
    "\n",
    "# lista de frutas\n",
    "d_frutas.keys()\n",
    "\n",
    "# lista de cantidades\n",
    "d_frutas.values()\n",
    "\n",
    "# cuántas manzanas\n",
    "d_frutas.setdefault('manzana')\n",
    "\n",
    "# añade kiwi:6\n",
    "d_frutas.update({'kiwi':6})\n",
    "\n",
    "# cambia uvas a 8\n",
    "d_frutas['uva'] = 8\n"
   ]
  },
  {
   "cell_type": "code",
   "execution_count": 78,
   "metadata": {},
   "outputs": [
    {
     "name": "stdout",
     "output_type": "stream",
     "text": [
      "{'manzana': 2, 'banana': 3, 'uva': 8, 'pera': 4, 'kiwi': 6, 'sandia': 7, 'mango': 4}\n"
     ]
    },
    {
     "data": {
      "text/plain": [
       "2"
      ]
     },
     "execution_count": 78,
     "metadata": {},
     "output_type": "execute_result"
    }
   ],
   "source": [
    "# crea un segundo diccionario:\n",
    "frutas_nuevas = {'sandia':7, 'mango':4}\n",
    "\n",
    "# combinar ambos diccionarios\n",
    "frutas_total = d_frutas | frutas_nuevas\n",
    "print(frutas_total)\n",
    "\n",
    "# elimina último par de frutas_total\n",
    "frutas_total.pop('mango')\n",
    "\n",
    "# elimina el par uva\n",
    "frutas_total.pop('uva')\n",
    "\n",
    "# añade manzana:10; si ya existe, no se realiza ningún cambio\n",
    "frutas_total.setdefault('manzana', 10)\n",
    "\n",
    "# obtén una lista de todas las cantidades del diccionario y suma el total de estas\n",
    "lista_cantidades = list(frutas_total.values())\n",
    "total_cantidades = sum(lista_cantidades)\n",
    "\n",
    "# cantidad mayor\n",
    "max(lista_cantidades)\n",
    "min(lista_cantidades)\n",
    "\n"
   ]
  },
  {
   "cell_type": "markdown",
   "metadata": {},
   "source": [
    "sets"
   ]
  },
  {
   "cell_type": "code",
   "execution_count": 86,
   "metadata": {},
   "outputs": [
    {
     "data": {
      "text/plain": [
       "{1, 2, 3}"
      ]
     },
     "execution_count": 86,
     "metadata": {},
     "output_type": "execute_result"
    }
   ],
   "source": [
    "# crea set\n",
    "conjunto1 = {1, 2, 3, 4, 5}\n",
    "conjunto2 = {4, 5, 6, 7, 8}\n",
    "\n",
    "# unión de ambos conjuntos\n",
    "conjunto3 = conjunto1.union(conjunto2)\n",
    "conjunto3\n",
    "\n",
    "# intersección\n",
    "\n",
    "intersec = conjunto1.intersection(conjunto2)\n",
    "intersec\n",
    "\n",
    "# elementos diferentes\n",
    "diff = conjunto1.difference(conjunto2)\n",
    "diff\n",
    "\n"
   ]
  },
  {
   "cell_type": "markdown",
   "metadata": {},
   "source": [
    "sentencias control"
   ]
  },
  {
   "cell_type": "code",
   "execution_count": 87,
   "metadata": {},
   "outputs": [
    {
     "name": "stdout",
     "output_type": "stream",
     "text": [
      "Adulto\n"
     ]
    }
   ],
   "source": [
    "# evaluación de edades\n",
    "edad = int(input('Introduzca su edad'))\n",
    "\n",
    "if edad < 18:\n",
    "    print('Menor de edad')\n",
    "\n",
    "elif 17 < edad < 66:\n",
    "    print('Adulto')\n",
    "\n",
    "else:\n",
    "    print('Adulto mayor')\n"
   ]
  },
  {
   "cell_type": "code",
   "execution_count": 89,
   "metadata": {},
   "outputs": [
    {
     "name": "stdout",
     "output_type": "stream",
     "text": [
      "Ese valor no se corresponde con ningún día\n"
     ]
    }
   ],
   "source": [
    "# determina un día de la semana\n",
    "dia = int(input('Indique día de la semana (valor numérico)'))\n",
    "\n",
    "if dia == 1:\n",
    "    print('Lunes')\n",
    "    \n",
    "elif dia == 2:\n",
    "    print('Martes')\n",
    "\n",
    "elif dia == 3:\n",
    "    print('Miércoles')\n",
    "\n",
    "elif dia == 4:\n",
    "    print('Jueves')\n",
    "\n",
    "elif dia == 5:\n",
    "    print('Viernes')\n",
    "\n",
    "elif dia == 6:\n",
    "    print('Sábado')\n",
    "\n",
    "elif dia == 7:\n",
    "    print('Domingo')\n",
    "\n",
    "else:\n",
    "    print('Ese valor no se corresponde con ningún día')"
   ]
  },
  {
   "cell_type": "code",
   "execution_count": 90,
   "metadata": {},
   "outputs": [
    {
     "data": {
      "text/plain": [
       "'2'"
      ]
     },
     "execution_count": 90,
     "metadata": {},
     "output_type": "execute_result"
    }
   ],
   "source": [
    "import random\n",
    "\n",
    "# adivina el número\n",
    "num = random.randint(1, 100)\n",
    "num_j = int(input('Elige un número del 1 al 100'))\n",
    "\n",
    "while num != num_j:\n",
    "    if num == num_j:\n",
    "        print('¡A la primera!')\n",
    "\n",
    "    elif num < num_j:\n",
    "        print('Pista: busca un número menor')\n",
    "    \n",
    "    else:\n",
    "        print('Pista: busca un número mayor')"
   ]
  },
  {
   "cell_type": "code",
   "execution_count": 2,
   "metadata": {},
   "outputs": [
    {
     "name": "stdout",
     "output_type": "stream",
     "text": [
      "gato\n"
     ]
    }
   ],
   "source": [
    "# adivina la palabra\n",
    "palabra = input('Indique una palabra')\n",
    "p_asterisco = '*' * len(palabra)\n",
    "vidas = 10\n",
    "letras = []\n",
    "\n",
    "print(palabra)\n",
    "\n",
    "        \n",
    "\n",
    "\n"
   ]
  },
  {
   "cell_type": "code",
   "execution_count": 4,
   "metadata": {},
   "outputs": [
    {
     "name": "stdout",
     "output_type": "stream",
     "text": [
      "¡Correcto!\n",
      "****\n",
      "¡Correcto!\n",
      "****\n",
      "¡Correcto!\n",
      "****\n",
      "¡Correcto!\n",
      "****\n",
      "¡Correcto!\n",
      "****\n"
     ]
    }
   ],
   "source": [
    "while vidas > 0 or palabra != p_asterisco:\n",
    "    letra = input('Letra')\n",
    "    if letra in palabra:\n",
    "        letras.append(letra) \n",
    "        print('¡Correcto!')\n",
    "        if letra in letras:\n",
    "            # buscar en qué índice está LETRA en PALABRA\n",
    "            # cambiar caracter en P_ASTERISCO por letra según índice\n",
    "            \n",
    "            print(p_asterisco)\n",
    "\n",
    "        else:\n",
    "            print(p_asterisco)\n",
    "\n",
    "    \n",
    "    else:\n",
    "        vidas -=1\n",
    "        print(f'¡Esa no está! Tienes {vidas} intentos')\n",
    "        print(p_asterisco)\n",
    "        "
   ]
  }
 ],
 "metadata": {
  "kernelspec": {
   "display_name": "base",
   "language": "python",
   "name": "python3"
  },
  "language_info": {
   "codemirror_mode": {
    "name": "ipython",
    "version": 3
   },
   "file_extension": ".py",
   "mimetype": "text/x-python",
   "name": "python",
   "nbconvert_exporter": "python",
   "pygments_lexer": "ipython3",
   "version": "3.9.7"
  }
 },
 "nbformat": 4,
 "nbformat_minor": 2
}
